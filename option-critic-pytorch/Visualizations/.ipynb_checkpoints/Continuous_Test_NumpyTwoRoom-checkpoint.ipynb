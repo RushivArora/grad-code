{
 "cells": [
  {
   "cell_type": "code",
   "execution_count": 1,
   "id": "western-variance",
   "metadata": {},
   "outputs": [],
   "source": [
    "import numpy as np\n",
    "import gym\n",
    "import os\n",
    "import seaborn as sn\n",
    "import pandas as pd\n",
    "import matplotlib.pyplot as plt\n",
    "from collections import defaultdict\n",
    "import pickle\n",
    "import matplotlib as mpl\n",
    "from math import exp\n",
    "mpl.style.use('classic')\n",
    "\n",
    "import torch\n",
    "import torch.nn as nn\n",
    "import torch.nn.functional as F\n",
    "import torch.optim as optim\n",
    "from torch import autograd\n",
    "from torch.distributions import Categorical, Bernoulli\n",
    "\n",
    "#from FourRoomsLava import Fourrooms,FourroomsLava\n",
    "from tworooms import Tworooms\n",
    "from fourrooms import Fourrooms"
   ]
  },
  {
   "cell_type": "code",
   "execution_count": 2,
   "id": "daily-toronto",
   "metadata": {},
   "outputs": [
    {
     "name": "stdout",
     "output_type": "stream",
     "text": [
      "Occupancy =  [[1 1 1 1 1 1 1 1 1 1 1 1 1]\n",
      " [1 0 0 0 0 0 1 0 0 0 0 0 1]\n",
      " [1 0 0 0 0 0 1 0 0 0 0 0 1]\n",
      " [1 0 0 0 0 0 0 0 0 0 0 0 1]\n",
      " [1 0 0 0 0 0 1 0 0 0 0 0 1]\n",
      " [1 0 0 0 0 0 1 0 0 0 0 0 1]\n",
      " [1 1 1 1 1 1 1 1 1 1 1 1 1]]\n",
      "Observation Space =  Discrete(51)\n",
      "To state =  {(1, 1): 0, (1, 2): 1, (1, 3): 2, (1, 4): 3, (1, 5): 4, (1, 7): 5, (1, 8): 6, (1, 9): 7, (1, 10): 8, (1, 11): 9, (2, 1): 10, (2, 2): 11, (2, 3): 12, (2, 4): 13, (2, 5): 14, (2, 7): 15, (2, 8): 16, (2, 9): 17, (2, 10): 18, (2, 11): 19, (3, 1): 20, (3, 2): 21, (3, 3): 22, (3, 4): 23, (3, 5): 24, (3, 6): 25, (3, 7): 26, (3, 8): 27, (3, 9): 28, (3, 10): 29, (3, 11): 30, (4, 1): 31, (4, 2): 32, (4, 3): 33, (4, 4): 34, (4, 5): 35, (4, 7): 36, (4, 8): 37, (4, 9): 38, (4, 10): 39, (4, 11): 40, (5, 1): 41, (5, 2): 42, (5, 3): 43, (5, 4): 44, (5, 5): 45, (5, 7): 46, (5, 8): 47, (5, 9): 48, (5, 10): 49, (5, 11): 50}\n",
      "To Cell =  {0: (1, 1), 1: (1, 2), 2: (1, 3), 3: (1, 4), 4: (1, 5), 5: (1, 7), 6: (1, 8), 7: (1, 9), 8: (1, 10), 9: (1, 11), 10: (2, 1), 11: (2, 2), 12: (2, 3), 13: (2, 4), 14: (2, 5), 15: (2, 7), 16: (2, 8), 17: (2, 9), 18: (2, 10), 19: (2, 11), 20: (3, 1), 21: (3, 2), 22: (3, 3), 23: (3, 4), 24: (3, 5), 25: (3, 6), 26: (3, 7), 27: (3, 8), 28: (3, 9), 29: (3, 10), 30: (3, 11), 31: (4, 1), 32: (4, 2), 33: (4, 3), 34: (4, 4), 35: (4, 5), 36: (4, 7), 37: (4, 8), 38: (4, 9), 39: (4, 10), 40: (4, 11), 41: (5, 1), 42: (5, 2), 43: (5, 3), 44: (5, 4), 45: (5, 5), 46: (5, 7), 47: (5, 8), 48: (5, 9), 49: (5, 10), 50: (5, 11)}\n"
     ]
    }
   ],
   "source": [
    "env = gym.make('Tworooms-v0')\n",
    "#env = FourroomsLava()\n",
    "layout = \"\"\"\\\n",
    "wwwwwwwwwwwww\n",
    "w     w     w\n",
    "w     w     w\n",
    "w           w\n",
    "w     w     w\n",
    "w     w    Gw\n",
    "wwwwwwwwwwwww\n",
    "\"\"\"\n",
    "\n",
    "layout = \"\"\"\\\n",
    "wwwwwwwwwwwww\n",
    "w           w\n",
    "w           w\n",
    "w           w\n",
    "w           w\n",
    "w          Gw\n",
    "wwwwwwwwwwwww\n",
    "\"\"\""
   ]
  },
  {
   "cell_type": "code",
   "execution_count": 3,
   "id": "alive-correction",
   "metadata": {},
   "outputs": [],
   "source": [
    "layout = \"\"\"\\\n",
    "wwwwwwwwwwwww\n",
    "w     w     w\n",
    "w     w     w\n",
    "w           w\n",
    "w     w     w\n",
    "w     w    Gw\n",
    "wwwwwwwwwwwww\n",
    "\"\"\""
   ]
  },
  {
   "cell_type": "markdown",
   "id": "configured-multiple",
   "metadata": {},
   "source": [
    "# View Map"
   ]
  },
  {
   "cell_type": "code",
   "execution_count": 4,
   "id": "romance-entrepreneur",
   "metadata": {},
   "outputs": [],
   "source": [
    "def getEnvLayout(layout,wall_value=20, lava=True, danger=True):\n",
    "    num_row = 7\n",
    "    num_col = 13\n",
    "    line_count = 0\n",
    "    mat_layout = -2*np.ones((num_row, num_col))\n",
    "    mapping_state_row_col = defaultdict(list)\n",
    "    ann_layout = np.zeros((num_row, num_col))\n",
    "    state_count = 0\n",
    "    for line in layout.splitlines():\n",
    "        for i in range(num_col):\n",
    "            if line[i]!=\"w\":\n",
    "                mapping_state_row_col[state_count].extend([line_count, i])\n",
    "                ann_layout[line_count, i] = state_count\n",
    "                state_count +=1            \n",
    "            if line[i] == \"d\" and danger == True:\n",
    "                mat_layout[line_count, i] = 5\n",
    "            elif line[i] == \"L\" and lava == True:\n",
    "                mat_layout[line_count, i] = 10\n",
    "            elif line[i]==\"w\":\n",
    "                    mat_layout[line_count, i] = 0.5\n",
    "            elif line[i]==\"G\":\n",
    "                    mat_layout[line_count, i] = 0\n",
    "                    \n",
    "        line_count +=1\n",
    "\n",
    "    return mat_layout, ann_layout, mapping_state_row_col"
   ]
  },
  {
   "cell_type": "code",
   "execution_count": 5,
   "id": "choice-radar",
   "metadata": {},
   "outputs": [
    {
     "data": {
      "image/png": "[encoded data removed]",
      "text/plain": [
       "<Figure size 640x480 with 2 Axes>"
      ]
     },
     "metadata": {},
     "output_type": "display_data"
    }
   ],
   "source": [
    "#graphical representation for the environment\n",
    "plt.figsize=(10, 8)\n",
    "mat_layout , ann_layout, mapping_state_row_col = getEnvLayout(layout)\n",
    "sn.set(font_scale=0.6)\n",
    "ax = sn.heatmap(mat_layout, annot = ann_layout, fmt = '')\n",
    "plt.show()\n",
    "plt.close()"
   ]
  },
  {
   "cell_type": "markdown",
   "id": "fatal-setup",
   "metadata": {},
   "source": [
    "# Models"
   ]
  },
  {
   "cell_type": "code",
   "execution_count": 21,
   "id": "accurate-pledge",
   "metadata": {},
   "outputs": [],
   "source": [
    "class StateModel(nn.Module):\n",
    "    def __init__(self, num_states, num_outputs):\n",
    "        super(StateModel, self).__init__()\n",
    "        self.num_states = num_states\n",
    "        self.num_outputs = num_outputs\n",
    "\n",
    "        \"\"\"\n",
    "        self.features = nn.Sequential(\n",
    "            nn.Linear(num_states, 32),\n",
    "            nn.ReLU(),\n",
    "            nn.Linear(32,64),\n",
    "            nn.ReLU()\n",
    "        )\n",
    "        \"\"\"\n",
    "\n",
    "        self.features = nn.Sequential(\n",
    "            nn.Linear(num_states, 32),\n",
    "            nn.ReLU()\n",
    "        )\n",
    "\n",
    "\n",
    "    def forward(self, observation):\n",
    "        state = self.features(observation)\n",
    "        return state.detach()"
   ]
  },
  {
   "cell_type": "code",
   "execution_count": 22,
   "id": "ahead-sweet",
   "metadata": {},
   "outputs": [],
   "source": [
    "\"\"\"\n",
    "\n",
    "This is the policy over options, the Q function\n",
    "\n",
    "\"\"\"\n",
    "class PolicyOverOptions(nn.Module):\n",
    "    def __init__(self, rng, num_states, num_options, eps_start=1.0, eps_min=0.1, eps_decay=int(1e5)):\n",
    "        super(PolicyOverOptions, self).__init__()\n",
    "        self.rng = rng\n",
    "        self.num_states = num_states\n",
    "        self.num_options = num_options\n",
    "        #self.epsilon = epsilon\n",
    "\n",
    "        #self.linear1 = nn.Linear(self.num_states, 64)\n",
    "        #self.act1 = nn.ReLU()\n",
    "        #self.linear2 = nn.Linear(64, self.num_states)\n",
    "\n",
    "        self.eps_min   = eps_min\n",
    "        self.eps_start = eps_start\n",
    "        self.eps_decay = eps_decay\n",
    "        self.num_steps = 0\n",
    "\n",
    "        self.linear = nn.Linear(self.num_states, self.num_options)\n",
    "\n",
    "    def Q_omega(self, state, option=None):\n",
    "        #return nn.Sequential(self.linear1, self.act1, self.linear2)\n",
    "        #state = self.linear1(state)\n",
    "        #state = self.act1(state)\n",
    "        #state = self.linear2(state)\n",
    "        return self.linear(state)\n",
    "        #return state\n",
    "\n",
    "    def sample_option(self, state):\n",
    "        #if self.rng.uniform() < self.epsilon:\n",
    "          #return int(self.rng.randint(self.noptions))\n",
    "        #else:\n",
    "        #Q = self.get_Q(state)\n",
    "        #return Q.argmax(dim=-1).item()\n",
    "        epsilon = self.epsilon\n",
    "        e_greedy_option = self.linear(state).argmax(dim=-1).item()\n",
    "        option = np.random.choice(self.num_options) if np.random.rand() < epsilon else e_greedy_option\n",
    "        return option\n",
    "  \n",
    "    @property\n",
    "    def epsilon(self):\n",
    "        eps = self.eps_min + (self.eps_start - self.eps_min) * exp(-self.num_steps / self.eps_decay)\n",
    "        self.num_steps += 1\n",
    "        #return eps\n",
    "        return 0.1\n"
   ]
  },
  {
   "cell_type": "code",
   "execution_count": 23,
   "id": "mechanical-series",
   "metadata": {},
   "outputs": [],
   "source": [
    "class Termination(nn.Module):\n",
    "    def __init__(self, num_states, num_options):\n",
    "        super(Termination, self).__init__()\n",
    "        self.num_states = num_states\n",
    "        self.num_options = num_options\n",
    "\n",
    "        #self.linear1 = nn.Linear(self.num_states, 64)\n",
    "        #self.act1 = nn.ReLU()\n",
    "        #self.linear2 = nn.Linear(64, self.num_states)\n",
    "        #self.sig = nn.Sigmoid()\n",
    "\n",
    "        self.linear = nn.Linear(self.num_states, self.num_options)\n",
    "\n",
    "    def terminations(self, state):\n",
    "        #state = self.linear1(state)\n",
    "        #state = self.act1(state)\n",
    "        #state = self.linear2(state).sigmoid()\n",
    "        #state = self.sig(state)\n",
    "        state = self.linear(state).sigmoid()\n",
    "        return state\n",
    "\n",
    "    def predict_option_termination(self, state, current_option):\n",
    "        termination = self.linear(state)[current_option].sigmoid()\n",
    "        #state = self.linear1(state)\n",
    "        #state = self.act1(state)\n",
    "        #termination = self.linear2(state).sigmoid()\n",
    "        option_termination = Bernoulli(termination).sample()\n",
    "        return bool(option_termination.item())"
   ]
  },
  {
   "cell_type": "code",
   "execution_count": 24,
   "id": "higher-basic",
   "metadata": {},
   "outputs": [],
   "source": [
    "class SoftmaxPolicy(nn.Module):\n",
    "    def __init__(self, num_states, num_options, num_actions, temperature=1):\n",
    "        super(SoftmaxPolicy, self).__init__()\n",
    "        self.num_states = num_states\n",
    "        self.num_options = num_options\n",
    "        self.num_actions = num_actions\n",
    "        self.temperature = temperature\n",
    "\n",
    "        self.options_W = nn.Parameter(torch.zeros(num_options, num_states, num_actions))\n",
    "        self.options_b = nn.Parameter(torch.zeros(num_options, num_actions))\n",
    "\n",
    "    def sample_action(self, state, option):\n",
    "        #logits = state[option] @ self.options_W[option] + self.options_b[option]\n",
    "        logits = state @ self.options_W[option] + self.options_b[option]\n",
    "        action_dist = (logits / self.temperature).softmax(dim=-1)\n",
    "        action_dist = Categorical(action_dist)\n",
    "        \n",
    "        action  = action_dist.sample()\n",
    "        logp    = action_dist.log_prob(action)\n",
    "        entropy = action_dist.entropy()\n",
    "        return action.item(), logp, entropy"
   ]
  },
  {
   "cell_type": "code",
   "execution_count": 10,
   "id": "technological-viking",
   "metadata": {},
   "outputs": [
    {
     "name": "stdout",
     "output_type": "stream",
     "text": [
      "\u001b[34mClosed-Loop ELOs\u001b[m\u001b[m                   halfcheetahv2.py\r\n",
      "Continuous_Test_NumpyTwoRoom.ipynb logger.py\r\n",
      "FourRoomsLava.py                   main.py\r\n",
      "\u001b[34mMoreEnvs\u001b[m\u001b[m                           \u001b[34mmodels\u001b[m\u001b[m\r\n",
      "README.md                          option_critic.py\r\n",
      "\u001b[34mTrained_Models\u001b[m\u001b[m                     option_critic_split.py\r\n",
      "\u001b[34mTrained_Models copy\u001b[m\u001b[m                option_critic_split2.py\r\n",
      "\u001b[34m__pycache__\u001b[m\u001b[m                        \u001b[34mruns\u001b[m\u001b[m\r\n",
      "experience_replay.py               tworooms.py\r\n",
      "fourrooms.py                       utils.py\r\n"
     ]
    }
   ],
   "source": [
    "!ls ./"
   ]
  },
  {
   "cell_type": "markdown",
   "id": "better-joseph",
   "metadata": {},
   "source": [
    "# Import Model"
   ]
  },
  {
   "cell_type": "code",
   "execution_count": 176,
   "id": "subsequent-vector",
   "metadata": {},
   "outputs": [],
   "source": [
    "file_num = 5\n",
    "state_sd = torch.load(\"./Trained_Models/TwoRooms/\"+ str(file_num) + \"/State_model.pt\")\n",
    "policy_sd = torch.load(\"./Trained_Models/TwoRooms/\"+ str(file_num) + \"/Policy_over_options.pt\")\n",
    "termination_sd = torch.load(\"./Trained_Models/TwoRooms/\"+ str(file_num) + \"/Option_termination.pt\")\n",
    "option_sd = torch.load(\"./Trained_Models/TwoRooms/\"+ str(file_num) + \"/Option_policies.pt\")"
   ]
  },
  {
   "cell_type": "code",
   "execution_count": 177,
   "id": "geographic-oregon",
   "metadata": {},
   "outputs": [
    {
     "name": "stdout",
     "output_type": "stream",
     "text": [
      "Occupancy =  [[1 1 1 1 1 1 1 1 1 1 1 1 1]\n",
      " [1 0 0 0 0 0 1 0 0 0 0 0 1]\n",
      " [1 0 0 0 0 0 1 0 0 0 0 0 1]\n",
      " [1 0 0 0 0 0 0 0 0 0 0 0 1]\n",
      " [1 0 0 0 0 0 1 0 0 0 0 0 1]\n",
      " [1 0 0 0 0 0 1 0 0 0 0 0 1]\n",
      " [1 1 1 1 1 1 1 1 1 1 1 1 1]]\n",
      "Observation Space =  Discrete(51)\n",
      "To state =  {(1, 1): 0, (1, 2): 1, (1, 3): 2, (1, 4): 3, (1, 5): 4, (1, 7): 5, (1, 8): 6, (1, 9): 7, (1, 10): 8, (1, 11): 9, (2, 1): 10, (2, 2): 11, (2, 3): 12, (2, 4): 13, (2, 5): 14, (2, 7): 15, (2, 8): 16, (2, 9): 17, (2, 10): 18, (2, 11): 19, (3, 1): 20, (3, 2): 21, (3, 3): 22, (3, 4): 23, (3, 5): 24, (3, 6): 25, (3, 7): 26, (3, 8): 27, (3, 9): 28, (3, 10): 29, (3, 11): 30, (4, 1): 31, (4, 2): 32, (4, 3): 33, (4, 4): 34, (4, 5): 35, (4, 7): 36, (4, 8): 37, (4, 9): 38, (4, 10): 39, (4, 11): 40, (5, 1): 41, (5, 2): 42, (5, 3): 43, (5, 4): 44, (5, 5): 45, (5, 7): 46, (5, 8): 47, (5, 9): 48, (5, 10): 49, (5, 11): 50}\n",
      "To Cell =  {0: (1, 1), 1: (1, 2), 2: (1, 3), 3: (1, 4), 4: (1, 5), 5: (1, 7), 6: (1, 8), 7: (1, 9), 8: (1, 10), 9: (1, 11), 10: (2, 1), 11: (2, 2), 12: (2, 3), 13: (2, 4), 14: (2, 5), 15: (2, 7), 16: (2, 8), 17: (2, 9), 18: (2, 10), 19: (2, 11), 20: (3, 1), 21: (3, 2), 22: (3, 3), 23: (3, 4), 24: (3, 5), 25: (3, 6), 26: (3, 7), 27: (3, 8), 28: (3, 9), 29: (3, 10), 30: (3, 11), 31: (4, 1), 32: (4, 2), 33: (4, 3), 34: (4, 4), 35: (4, 5), 36: (4, 7), 37: (4, 8), 38: (4, 9), 39: (4, 10), 40: (4, 11), 41: (5, 1), 42: (5, 2), 43: (5, 3), 44: (5, 4), 45: (5, 5), 46: (5, 7), 47: (5, 8), 48: (5, 9), 49: (5, 10), 50: (5, 11)}\n",
      "3\n"
     ]
    }
   ],
   "source": [
    "env = gym.make('Tworooms-v0')\n",
    "num_actions  = env.action_space.n\n",
    "num_states = env.observation_space.n\n",
    "num_options = 2\n",
    "\n",
    "obs = env.reset()\n",
    "print(len(obs))\n",
    "\n",
    "state_model = StateModel(num_states, len(obs))\n",
    "policy_over_options = PolicyOverOptions(123, len(obs), num_options, eps_decay=20000)\n",
    "option_termination = Termination(len(obs), num_options)\n",
    "option_policies = SoftmaxPolicy(len(obs), num_options, num_actions)"
   ]
  },
  {
   "cell_type": "code",
   "execution_count": 178,
   "id": "appointed-destruction",
   "metadata": {},
   "outputs": [
    {
     "data": {
      "text/plain": [
       "<All keys matched successfully>"
      ]
     },
     "execution_count": 178,
     "metadata": {},
     "output_type": "execute_result"
    }
   ],
   "source": [
    "#state_model.load_state_dict(state_sd)\n",
    "policy_over_options.load_state_dict(policy_sd)\n",
    "option_termination.load_state_dict(termination_sd)\n",
    "option_policies.load_state_dict(option_sd)"
   ]
  },
  {
   "cell_type": "markdown",
   "id": "arctic-taxation",
   "metadata": {},
   "source": [
    "# Visualize Runs"
   ]
  },
  {
   "cell_type": "code",
   "execution_count": 14,
   "id": "hazardous-spencer",
   "metadata": {},
   "outputs": [
    {
     "name": "stdout",
     "output_type": "stream",
     "text": [
      "{0: (1, 1), 1: (1, 2), 2: (1, 3), 3: (1, 4), 4: (1, 5), 5: (1, 7), 6: (1, 8), 7: (1, 9), 8: (1, 10), 9: (1, 11), 10: (2, 1), 11: (2, 2), 12: (2, 3), 13: (2, 4), 14: (2, 5), 15: (2, 7), 16: (2, 8), 17: (2, 9), 18: (2, 10), 19: (2, 11), 20: (3, 1), 21: (3, 2), 22: (3, 3), 23: (3, 4), 24: (3, 5), 25: (3, 6), 26: (3, 7), 27: (3, 8), 28: (3, 9), 29: (3, 10), 30: (3, 11), 31: (4, 1), 32: (4, 2), 33: (4, 3), 34: (4, 4), 35: (4, 5), 36: (4, 7), 37: (4, 8), 38: (4, 9), 39: (4, 10), 40: (4, 11), 41: (5, 1), 42: (5, 2), 43: (5, 3), 44: (5, 4), 45: (5, 5), 46: (5, 7), 47: (5, 8), 48: (5, 9), 49: (5, 10), 50: (5, 11)}\n"
     ]
    }
   ],
   "source": [
    "print(env.tocell)"
   ]
  },
  {
   "cell_type": "code",
   "execution_count": 179,
   "id": "brutal-basics",
   "metadata": {},
   "outputs": [
    {
     "name": "stdout",
     "output_type": "stream",
     "text": [
      "init state:  (2, 11, -3)\n",
      "done\n",
      "(5, 11, -6)\n",
      "Mapping Goal\n",
      "Reward =  1.0  Steps =  10\n"
     ]
    },
    {
     "data": {
      "image/png": "[encoded data removed]",
      "text/plain": [
       "<Figure size 480x480 with 1 Axes>"
      ]
     },
     "metadata": {},
     "output_type": "display_data"
    },
    {
     "name": "stdout",
     "output_type": "stream",
     "text": [
      "init state:  (2, 7, 1)\n",
      "done\n",
      "(5, 11, -6)\n",
      "Mapping Goal\n",
      "Reward =  1.0  Steps =  9\n"
     ]
    },
    {
     "data": {
      "image/png": "[encoded data removed]",
      "text/plain": [
       "<Figure size 480x480 with 1 Axes>"
      ]
     },
     "metadata": {},
     "output_type": "display_data"
    }
   ],
   "source": [
    "num_rows = 7\n",
    "num_cols = 13\n",
    "possible_goal_states = [env.goal]\n",
    "max_time_step = 20\n",
    "action_mapping = [u'U',u'D', u'L', u'R']\n",
    "\n",
    "init_state_done =[]\n",
    "count_graph_plot = 0\n",
    "run_to_show = 0 # run number of experiment\n",
    "\n",
    "start_states =[]\n",
    "num_traj =2\n",
    "count_traj = 1\n",
    "while(count_traj<=num_traj):\n",
    "    \n",
    "    curr_time = 0\n",
    "    obs = env.reset()\n",
    "    init_state = torch.tensor(obs).float()\n",
    "    \n",
    "    if obs in init_state_done:\n",
    "        continue\n",
    "    else:\n",
    "        count_traj +=1\n",
    "        ann_action = np.chararray((num_rows, num_cols))\n",
    "        ann_action[:,:] = ''.encode(\"utf-8\")\n",
    "        init_state_done.append(obs)\n",
    "\n",
    "    print(\"init state: \", obs)\n",
    "    init_obs = obs\n",
    "    curr_obs = obs\n",
    "    curr_state = init_state\n",
    "\n",
    "    options_color = [40, 45,50, 55]\n",
    "    cmap = sn.diverging_palette(250, 40, sep=20, as_cmap=True)\n",
    "\n",
    "\n",
    "    goal_state = env.goal\n",
    "    mat_layout, ann_layout, mapping_state_row_col = getEnvLayout(layout)\n",
    "    rewards = 0\n",
    "    termination = True\n",
    "    option = np.random.choice([0,1])\n",
    "    while(env.tostate[(curr_obs[0], curr_obs[1])] != goal_state and max_time_step > curr_time): \n",
    "        \n",
    "        if (termination):\n",
    "            option = policy_over_options.sample_option(curr_state)\n",
    "        action, logp, entropy = option_policies.sample_action(curr_state, option)\n",
    "        \n",
    "        next_obs, reward, done, info = env.step(action)\n",
    "        rewards += reward\n",
    "        next_state = torch.tensor(next_obs).float()\n",
    "        #print(\"Curr State = \", curr_state, \" Action = \", action, \" Next State = \", next_state)\n",
    "        row, col = mapping_state_row_col[env.tostate[(curr_obs[0], curr_obs[1])]]\n",
    "        mat_layout[row, col] = options_color[option]\n",
    "        \n",
    "        if (done):\n",
    "            print(\"done\")\n",
    "            ann_action[row, col] = action_mapping[action].encode(\"utf-8\")\n",
    "            curr_obs = next_obs\n",
    "            curr_state = next_state\n",
    "            curr_time +=1\n",
    "            break\n",
    "\n",
    "        \n",
    "        if curr_obs == init_obs:\n",
    "            ann_action[row,col] = 'S'.encode(\"utf-8\")\n",
    "            mat_layout[row,col] = 70\n",
    "        else:\n",
    "            ann_action[row, col] = action_mapping[action].encode(\"utf-8\")\n",
    "        curr_obs = next_obs\n",
    "        curr_state = next_state\n",
    "        curr_time +=1\n",
    "        termination = option_termination.predict_option_termination(curr_state, option)\n",
    "\n",
    "    if env.tostate[(curr_obs[0], curr_obs[1])] == goal_state:\n",
    "        print(curr_obs)\n",
    "        print(\"Mapping Goal\")\n",
    "        r,c = mapping_state_row_col[env.tostate[(curr_obs[0], curr_obs[1])]]\n",
    "        mat_layout[r,c] = 70\n",
    "        ann_action[r,c] = 'G'.encode(\"utf-8\")\n",
    "    print(\"Reward = \", rewards, \" Steps = \", curr_time)\n",
    "    plt.figure(figsize = (6,6))\n",
    "    sn.set(font_scale=0.6)\n",
    "    ax = sn.heatmap(mat_layout, annot = ann_action.decode(), fmt = '', cmap=cmap, cbar=False,annot_kws={\"size\": 20},square=True)\n",
    "    ax.get_xaxis().set_visible(False)\n",
    "    ax.get_yaxis().set_visible(False)\n",
    "    init_state_done.append(init_obs)\n",
    "    count_graph_plot +=1\n",
    "    plt.show()\n",
    "    plt.close()"
   ]
  },
  {
   "cell_type": "markdown",
   "id": "acoustic-trainer",
   "metadata": {},
   "source": [
    "# Visualize Action Policies per Option"
   ]
  },
  {
   "cell_type": "code",
   "execution_count": 173,
   "id": "opponent-chicken",
   "metadata": {},
   "outputs": [
    {
     "name": "stdout",
     "output_type": "stream",
     "text": [
      "Done with option  0\n",
      "Done with option  1\n",
      "Option  0\n"
     ]
    },
    {
     "data": {
      "image/png": "[encoded data removed]",
      "text/plain": [
       "<Figure size 1600x1600 with 4 Axes>"
      ]
     },
     "metadata": {},
     "output_type": "display_data"
    },
    {
     "name": "stdout",
     "output_type": "stream",
     "text": [
      "Option  1\n"
     ]
    },
    {
     "data": {
      "image/png": "[encoded data removed]",
      "text/plain": [
       "<Figure size 1600x1600 with 4 Axes>"
      ]
     },
     "metadata": {},
     "output_type": "display_data"
    }
   ],
   "source": [
    "count_graph_plot = 0\n",
    "run_to_show = 0 # run number of experiment\n",
    "\n",
    "num_options = 2\n",
    "#init_states = env.init_states\n",
    "init_states = list(range(env.observation_space.n))\n",
    "    \n",
    "up_probs = []\n",
    "down_probs = []\n",
    "right_probs = []\n",
    "left_probs = []\n",
    "mat_layout , ann_layout, mapping_state_row_col = getEnvLayout(layout)\n",
    "W = option_policies.options_W\n",
    "b = option_policies.options_b\n",
    "\n",
    "for option in range(0, num_options):\n",
    "    up_temp = np.copy(mat_layout)\n",
    "    down_temp = np.copy(mat_layout)\n",
    "    right_temp = np.copy(mat_layout)\n",
    "    left_temp = np.copy(mat_layout)\n",
    "    for obs in init_states:\n",
    "\n",
    "        state_arr = env.tocell[obs]\n",
    "        state = env.states[(state_arr[0], state_arr[1])]\n",
    "        state = torch.tensor(state).float()\n",
    "\n",
    "        logits = state @ W[option] + b[option]\n",
    "        action_dist = (logits /1).softmax(dim=-1)\n",
    "        action_dist = Categorical(action_dist)\n",
    "\n",
    "        probs = action_dist.probs\n",
    "        #print(\"State = \", state, \" Probs = \", probs)\n",
    "        \n",
    "        row, col = mapping_state_row_col[obs]\n",
    "        up_temp[row, col] =  probs[0]\n",
    "        down_temp[row, col] =  probs[1]\n",
    "        left_temp[row, col] =  probs[2]\n",
    "        right_temp[row, col] =  probs[3]\n",
    "        \n",
    "    up_probs.append(up_temp)\n",
    "    down_probs.append(down_temp)\n",
    "    right_probs.append(right_temp)\n",
    "    left_probs.append(left_temp)\n",
    "    print(\"Done with option \", option)\n",
    "\n",
    "\n",
    "for i in range(num_options):\n",
    "    print(\"Option \", i)\n",
    "    fix, axs = plt.subplots(1,4, figsize=(20, 20))\n",
    "    sn.set(font_scale=0.6)\n",
    "    #plt.figure(figsize=(5,5))\n",
    "    sn.heatmap(up_probs[i], fmt = '', cmap=\"viridis\", cbar = False, square=True, ax = axs[0], xticklabels=False, yticklabels=False)\n",
    "    sn.heatmap(down_probs[i], fmt = '', cmap=\"viridis\", cbar = False, square=True, ax = axs[1], xticklabels=False, yticklabels=False)\n",
    "    sn.heatmap(left_probs[i], fmt = '', cmap=\"viridis\", cbar = False, square=True, ax = axs[2], xticklabels=False, yticklabels=False)\n",
    "    sn.heatmap(right_probs[i], fmt = '', cmap=\"viridis\", cbar = False, square=True, ax = axs[3], xticklabels=False, yticklabels=False)\n",
    "    axs[0].set_title('UP', fontsize=20)\n",
    "    axs[1].set_title('DOWN', fontsize=20)\n",
    "    axs[2].set_title('LEFT', fontsize=20)\n",
    "    axs[3].set_title('RIGHT', fontsize=20)\n",
    "    plt.show()\n",
    "    plt.close()"
   ]
  },
  {
   "cell_type": "code",
   "execution_count": 174,
   "id": "aboriginal-arbor",
   "metadata": {},
   "outputs": [
    {
     "name": "stdout",
     "output_type": "stream",
     "text": [
      "Done with getting aggregate action\n"
     ]
    },
    {
     "data": {
      "image/png": "[encoded data removed]",
      "text/plain": [
       "<Figure size 480x480 with 1 Axes>"
      ]
     },
     "metadata": {},
     "output_type": "display_data"
    }
   ],
   "source": [
    "actions = []\n",
    "action_mapping = [u'U',u'D', u'L', u'R']\n",
    "mat_layout, ann_layout, mapping_state_row_col = getEnvLayout(layout,wall_value=0.60)\n",
    "ann_action = np.chararray((7, 13))\n",
    "#ann_action = np.copy(mat_layout)\n",
    "#ann_action[:,:] = ''.encode(\"utf-8\")\n",
    "options_color = [40, 45,50, 55]\n",
    "cmap = sn.diverging_palette(250, 40, sep=20, as_cmap=True)\n",
    "for obs in init_states:\n",
    "    state_arr = env.tocell[obs]\n",
    "    state = env.states[(state_arr[0], state_arr[1])]\n",
    "    state = torch.tensor(state).float()\n",
    "\n",
    "    temp = []\n",
    "    \"\"\"\n",
    "    for i in range(num_options):\n",
    "        action, logp, entropy = option_policies.sample_action(state, i)\n",
    "        actions.append(action)\n",
    "        temp.append(action)\n",
    "    val = np.array(temp).argmax()\n",
    "    \"\"\"\n",
    "    option = policy_over_options.sample_option(state)\n",
    "    action, logp, entropy = option_policies.sample_action(state, option)\n",
    "    val = action\n",
    "    row, col = mapping_state_row_col[obs]\n",
    "    ann_action[row, col] = action_mapping[val].encode(\"utf-8\")\n",
    "\n",
    "print(\"Done with getting aggregate action\")\n",
    "\n",
    "def sigmoid(x, derivative=False):\n",
    "    return x*(1-x) if derivative else 1/(1+np.exp(-x))\n",
    "\n",
    "plt.figure(figsize = (6,6))\n",
    "sn.set(font_scale=0.6)\n",
    "ax = sn.heatmap(mat_layout, annot = ann_action.decode(), fmt = '', cmap=cmap, cbar=False,annot_kws={\"size\": 20},square=True)\n",
    "ax.get_xaxis().set_visible(False)\n",
    "ax.get_yaxis().set_visible(False)\n",
    "plt.show()\n",
    "plt.close()"
   ]
  },
  {
   "cell_type": "markdown",
   "id": "sustained-detector",
   "metadata": {},
   "source": [
    "# Visualize Termination/Option Switches"
   ]
  },
  {
   "cell_type": "code",
   "execution_count": 175,
   "id": "thermal-bailey",
   "metadata": {},
   "outputs": [
    {
     "name": "stdout",
     "output_type": "stream",
     "text": [
      "Option  0\n"
     ]
    },
    {
     "data": {
      "image/png": "[encoded data removed]",
      "text/plain": [
       "<Figure size 480x400 with 2 Axes>"
      ]
     },
     "metadata": {},
     "output_type": "display_data"
    },
    {
     "name": "stdout",
     "output_type": "stream",
     "text": [
      "Option  1\n"
     ]
    },
    {
     "data": {
      "image/png": "[encoded data removed]",
      "text/plain": [
       "<Figure size 480x400 with 2 Axes>"
      ]
     },
     "metadata": {},
     "output_type": "display_data"
    }
   ],
   "source": [
    "def sigmoid(x, derivative=False):\n",
    "    return x*(1-x) if derivative else 1/(1+np.exp(-x))\n",
    "\n",
    "init_states = list(range(env.observation_space.n))\n",
    "for option in range(num_options):\n",
    "    mat_layout, ann_layout, mapping_state_row_col = getEnvLayout(layout,wall_value=0.60)\n",
    "    print (\"Option \",option)    \n",
    "    fig, ax = plt.subplots(figsize=(6, 5))\n",
    "    for obs in init_states:\n",
    "        r, c = mapping_state_row_col[obs]\n",
    "        state_arr = env.tocell[obs]\n",
    "        state = env.states[(state_arr[0], state_arr[1])]\n",
    "        state = torch.tensor(state).float()\n",
    "        termination = option_termination.terminations(state).detach().numpy()\n",
    "        #print(termination)\n",
    "        option_termination_val = termination[option]\n",
    "        #print(termination)\n",
    "        #print(option_termination_val)\n",
    "        mat_layout[r,c] = termination[option].item()\n",
    "        #ann_layout[r,c] = round(termination[option],2)\n",
    "        \n",
    "    sn.set(font_scale=0.7)\n",
    "    #ax = sn.heatmap(mat_layout, annot = np.round(ann_layout,2), fmt = '', cmap=\"YlGnBu\", cbar = True, square=True)\n",
    "    ax = sn.heatmap(mat_layout, fmt = '', cmap=\"viridis\", cbar = True, square=True)\n",
    "    ax.get_xaxis().set_visible(False)\n",
    "    ax.get_yaxis().set_visible(False)\n",
    "#     plt.savefig((os.path.join(path,\"IOC_FinalBeta_O\"+ str(option) +\".png\")), dpi=200, facecolor='w', edgecolor='w',\n",
    "#                 orientation='portrait', papertype=None, format=None,\n",
    "#                 transparent=False, bbox_inches='tight', pad_inches=0,\n",
    "#                 frameon=None, figsize=(5, 5))\n",
    "    plt.show()\n",
    "    plt.close()"
   ]
  },
  {
   "cell_type": "code",
   "execution_count": 19,
   "id": "established-funds",
   "metadata": {},
   "outputs": [
    {
     "name": "stdout",
     "output_type": "stream",
     "text": [
      "Option  0\n",
      "Option  1\n",
      "(2, 7, 13)\n",
      "[[5.00000000e-01 5.00000000e-01 5.00000000e-01 5.00000000e-01\n",
      "  5.00000000e-01 5.00000000e-01 5.00000000e-01 5.00000000e-01\n",
      "  5.00000000e-01 5.00000000e-01 5.00000000e-01 5.00000000e-01\n",
      "  5.00000000e-01]\n",
      " [5.00000000e-01 1.62482742e-04 1.52552908e-04 1.43229961e-04\n",
      "  1.34476548e-04 1.26258048e-04 5.00000000e-01 1.11296984e-04\n",
      "  1.04495040e-04 9.81087651e-05 9.21126557e-05 8.64828980e-05\n",
      "  5.00000000e-01]\n",
      " [5.00000000e-01 2.17008070e-04 2.03746691e-04 1.91295738e-04\n",
      "  1.79605355e-04 1.68629267e-04 5.00000000e-01 1.48648149e-04\n",
      "  1.39563796e-04 1.31034554e-04 1.23026373e-04 1.15507552e-04\n",
      "  5.00000000e-01]\n",
      " [5.00000000e-01 2.89825490e-04 2.72115431e-04 2.55487539e-04\n",
      "  2.39875255e-04 2.25216761e-04 2.11453866e-04 1.98531838e-04\n",
      "  1.86399498e-04 1.75008288e-04 1.64313242e-04 1.54271562e-04\n",
      "  5.00000000e-01]\n",
      " [5.00000000e-01 3.87067441e-04 3.63417494e-04 3.41212086e-04\n",
      "  3.20363324e-04 3.00787797e-04 5.00000000e-01 2.65151175e-04\n",
      "  2.48948723e-04 2.33735889e-04 2.19452733e-04 2.06041776e-04\n",
      "  5.00000000e-01]\n",
      " [5.00000000e-01 5.16919070e-04 4.85338998e-04 4.55687812e-04\n",
      "  4.27846942e-04 4.01706347e-04 5.00000000e-01 3.54117685e-04\n",
      "  3.32480005e-04 3.12164892e-04 2.93089921e-04 2.75180442e-04\n",
      "  5.00000000e-01]\n",
      " [5.00000000e-01 5.00000000e-01 5.00000000e-01 5.00000000e-01\n",
      "  5.00000000e-01 5.00000000e-01 5.00000000e-01 5.00000000e-01\n",
      "  5.00000000e-01 5.00000000e-01 5.00000000e-01 5.00000000e-01\n",
      "  5.00000000e-01]]\n"
     ]
    },
    {
     "ename": "IndexError",
     "evalue": "index 2 is out of bounds for axis 0 with size 2",
     "output_type": "error",
     "traceback": [
      "\u001b[0;31m---------------------------------------------------------------------------\u001b[0m",
      "\u001b[0;31mIndexError\u001b[0m                                Traceback (most recent call last)",
      "\u001b[0;32m<ipython-input-19-fe873bc592b0>\u001b[0m in \u001b[0;36m<module>\u001b[0;34m\u001b[0m\n\u001b[1;32m     30\u001b[0m \u001b[0msn\u001b[0m\u001b[0;34m.\u001b[0m\u001b[0mheatmap\u001b[0m\u001b[0;34m(\u001b[0m\u001b[0mprobs\u001b[0m\u001b[0;34m[\u001b[0m\u001b[0;36m0\u001b[0m\u001b[0;34m]\u001b[0m\u001b[0;34m,\u001b[0m \u001b[0mfmt\u001b[0m \u001b[0;34m=\u001b[0m \u001b[0;34m''\u001b[0m\u001b[0;34m,\u001b[0m \u001b[0mcmap\u001b[0m\u001b[0;34m=\u001b[0m\u001b[0;34m\"viridis\"\u001b[0m\u001b[0;34m,\u001b[0m \u001b[0mcbar\u001b[0m \u001b[0;34m=\u001b[0m \u001b[0;32mFalse\u001b[0m\u001b[0;34m,\u001b[0m \u001b[0msquare\u001b[0m\u001b[0;34m=\u001b[0m\u001b[0;32mTrue\u001b[0m\u001b[0;34m,\u001b[0m \u001b[0max\u001b[0m \u001b[0;34m=\u001b[0m \u001b[0maxs\u001b[0m\u001b[0;34m[\u001b[0m\u001b[0;36m0\u001b[0m\u001b[0;34m]\u001b[0m\u001b[0;34m,\u001b[0m \u001b[0mxticklabels\u001b[0m\u001b[0;34m=\u001b[0m\u001b[0;32mFalse\u001b[0m\u001b[0;34m,\u001b[0m \u001b[0myticklabels\u001b[0m\u001b[0;34m=\u001b[0m\u001b[0;32mFalse\u001b[0m\u001b[0;34m)\u001b[0m\u001b[0;34m\u001b[0m\u001b[0;34m\u001b[0m\u001b[0m\n\u001b[1;32m     31\u001b[0m \u001b[0msn\u001b[0m\u001b[0;34m.\u001b[0m\u001b[0mheatmap\u001b[0m\u001b[0;34m(\u001b[0m\u001b[0mprobs\u001b[0m\u001b[0;34m[\u001b[0m\u001b[0;36m1\u001b[0m\u001b[0;34m]\u001b[0m\u001b[0;34m,\u001b[0m \u001b[0mfmt\u001b[0m \u001b[0;34m=\u001b[0m \u001b[0;34m''\u001b[0m\u001b[0;34m,\u001b[0m \u001b[0mcmap\u001b[0m\u001b[0;34m=\u001b[0m\u001b[0;34m\"viridis\"\u001b[0m\u001b[0;34m,\u001b[0m \u001b[0mcbar\u001b[0m \u001b[0;34m=\u001b[0m \u001b[0;32mFalse\u001b[0m\u001b[0;34m,\u001b[0m \u001b[0msquare\u001b[0m\u001b[0;34m=\u001b[0m\u001b[0;32mTrue\u001b[0m\u001b[0;34m,\u001b[0m \u001b[0max\u001b[0m \u001b[0;34m=\u001b[0m \u001b[0maxs\u001b[0m\u001b[0;34m[\u001b[0m\u001b[0;36m1\u001b[0m\u001b[0;34m]\u001b[0m\u001b[0;34m,\u001b[0m \u001b[0mxticklabels\u001b[0m\u001b[0;34m=\u001b[0m\u001b[0;32mFalse\u001b[0m\u001b[0;34m,\u001b[0m \u001b[0myticklabels\u001b[0m\u001b[0;34m=\u001b[0m\u001b[0;32mFalse\u001b[0m\u001b[0;34m)\u001b[0m\u001b[0;34m\u001b[0m\u001b[0;34m\u001b[0m\u001b[0m\n\u001b[0;32m---> 32\u001b[0;31m \u001b[0msn\u001b[0m\u001b[0;34m.\u001b[0m\u001b[0mheatmap\u001b[0m\u001b[0;34m(\u001b[0m\u001b[0mprobs\u001b[0m\u001b[0;34m[\u001b[0m\u001b[0;36m2\u001b[0m\u001b[0;34m]\u001b[0m\u001b[0;34m,\u001b[0m \u001b[0mfmt\u001b[0m \u001b[0;34m=\u001b[0m \u001b[0;34m''\u001b[0m\u001b[0;34m,\u001b[0m \u001b[0mcmap\u001b[0m\u001b[0;34m=\u001b[0m\u001b[0;34m\"viridis\"\u001b[0m\u001b[0;34m,\u001b[0m \u001b[0mcbar\u001b[0m \u001b[0;34m=\u001b[0m \u001b[0;32mFalse\u001b[0m\u001b[0;34m,\u001b[0m \u001b[0msquare\u001b[0m\u001b[0;34m=\u001b[0m\u001b[0;32mTrue\u001b[0m\u001b[0;34m,\u001b[0m \u001b[0max\u001b[0m \u001b[0;34m=\u001b[0m \u001b[0maxs\u001b[0m\u001b[0;34m[\u001b[0m\u001b[0;36m2\u001b[0m\u001b[0;34m]\u001b[0m\u001b[0;34m,\u001b[0m \u001b[0mxticklabels\u001b[0m\u001b[0;34m=\u001b[0m\u001b[0;32mFalse\u001b[0m\u001b[0;34m,\u001b[0m \u001b[0myticklabels\u001b[0m\u001b[0;34m=\u001b[0m\u001b[0;32mFalse\u001b[0m\u001b[0;34m)\u001b[0m\u001b[0;34m\u001b[0m\u001b[0;34m\u001b[0m\u001b[0m\n\u001b[0m\u001b[1;32m     33\u001b[0m \u001b[0msn\u001b[0m\u001b[0;34m.\u001b[0m\u001b[0mheatmap\u001b[0m\u001b[0;34m(\u001b[0m\u001b[0mprobs\u001b[0m\u001b[0;34m[\u001b[0m\u001b[0;36m3\u001b[0m\u001b[0;34m]\u001b[0m\u001b[0;34m,\u001b[0m \u001b[0mfmt\u001b[0m \u001b[0;34m=\u001b[0m \u001b[0;34m''\u001b[0m\u001b[0;34m,\u001b[0m \u001b[0mcmap\u001b[0m\u001b[0;34m=\u001b[0m\u001b[0;34m\"viridis\"\u001b[0m\u001b[0;34m,\u001b[0m \u001b[0mcbar\u001b[0m \u001b[0;34m=\u001b[0m \u001b[0;32mFalse\u001b[0m\u001b[0;34m,\u001b[0m \u001b[0msquare\u001b[0m\u001b[0;34m=\u001b[0m\u001b[0;32mTrue\u001b[0m\u001b[0;34m,\u001b[0m \u001b[0max\u001b[0m \u001b[0;34m=\u001b[0m \u001b[0maxs\u001b[0m\u001b[0;34m[\u001b[0m\u001b[0;36m3\u001b[0m\u001b[0;34m]\u001b[0m\u001b[0;34m,\u001b[0m \u001b[0mxticklabels\u001b[0m\u001b[0;34m=\u001b[0m\u001b[0;32mFalse\u001b[0m\u001b[0;34m,\u001b[0m \u001b[0myticklabels\u001b[0m\u001b[0;34m=\u001b[0m\u001b[0;32mFalse\u001b[0m\u001b[0;34m)\u001b[0m\u001b[0;34m\u001b[0m\u001b[0;34m\u001b[0m\u001b[0m\n\u001b[1;32m     34\u001b[0m \u001b[0maxs\u001b[0m\u001b[0;34m[\u001b[0m\u001b[0;36m0\u001b[0m\u001b[0;34m]\u001b[0m\u001b[0;34m.\u001b[0m\u001b[0mset_title\u001b[0m\u001b[0;34m(\u001b[0m\u001b[0;34m'Option 0'\u001b[0m\u001b[0;34m,\u001b[0m \u001b[0mfontsize\u001b[0m\u001b[0;34m=\u001b[0m\u001b[0;36m15\u001b[0m\u001b[0;34m)\u001b[0m\u001b[0;34m\u001b[0m\u001b[0;34m\u001b[0m\u001b[0m\n",
      "\u001b[0;31mIndexError\u001b[0m: index 2 is out of bounds for axis 0 with size 2"
     ]
    },
    {
     "data": {
      "image/png": "[encoded data removed]",
      "text/plain": [
       "<Figure size 480x400 with 1 Axes>"
      ]
     },
     "metadata": {},
     "output_type": "display_data"
    },
    {
     "data": {
      "image/png": "[encoded data removed]",
      "text/plain": [
       "<Figure size 480x400 with 1 Axes>"
      ]
     },
     "metadata": {},
     "output_type": "display_data"
    },
    {
     "data": {
      "image/png": "[encoded data removed]",
      "text/plain": [
       "<Figure size 800x800 with 4 Axes>"
      ]
     },
     "metadata": {},
     "output_type": "display_data"
    }
   ],
   "source": [
    "init_states = list(range(env.observation_space.n))\n",
    "probs = []\n",
    "for option in range(num_options):\n",
    "    mat_layout, ann_layout, mapping_state_row_col = getEnvLayout(layout,wall_value=0.60)\n",
    "    print (\"Option \",option)    \n",
    "    fig, ax = plt.subplots(figsize=(6, 5))\n",
    "    temp = []\n",
    "    for obs in init_states:\n",
    "        r, c = mapping_state_row_col[obs]\n",
    "        state_arr = env.tocell[obs]\n",
    "        state = env.states[(state_arr[0], state_arr[1])]\n",
    "        state = torch.tensor(state).float()\n",
    "\n",
    "        termination = option_termination.terminations(state)\n",
    "        option_termination_val = Bernoulli(termination).sample()\n",
    "        #print(termination)\n",
    "        #print(option_termination_val)\n",
    "        mat_layout[r,c] = termination[option].item()\n",
    "        temp.append(termination[option].item())\n",
    "        #ann_layout[r,c] = round(termination[option],2)\n",
    "    temp = np.array(temp)\n",
    "    probs.append(mat_layout)\n",
    "        \n",
    "probs = np.array(probs).squeeze()\n",
    "print(np.array(probs).shape)\n",
    "print(np.array(probs[0]))\n",
    "fix, axs = plt.subplots(1,4, figsize=(10, 10))\n",
    "sn.set(font_scale=0.7)\n",
    "#ax = sn.heatmap(mat_layout, annot = np.round(ann_layout,2), fmt = '', cmap=\"YlGnBu\", cbar = True, square=True)\n",
    "sn.heatmap(probs[0], fmt = '', cmap=\"viridis\", cbar = False, square=True, ax = axs[0], xticklabels=False, yticklabels=False)\n",
    "sn.heatmap(probs[1], fmt = '', cmap=\"viridis\", cbar = False, square=True, ax = axs[1], xticklabels=False, yticklabels=False)\n",
    "sn.heatmap(probs[2], fmt = '', cmap=\"viridis\", cbar = False, square=True, ax = axs[2], xticklabels=False, yticklabels=False)\n",
    "sn.heatmap(probs[3], fmt = '', cmap=\"viridis\", cbar = False, square=True, ax = axs[3], xticklabels=False, yticklabels=False)\n",
    "axs[0].set_title('Option 0', fontsize=15)\n",
    "axs[1].set_title('Option 1', fontsize=15)\n",
    "axs[2].set_title('Option 2', fontsize=15)\n",
    "axs[3].set_title('Option 3', fontsize=15)\n",
    "plt.show()\n",
    "plt.show()\n",
    "plt.close()"
   ]
  },
  {
   "cell_type": "code",
   "execution_count": null,
   "id": "molecular-founder",
   "metadata": {},
   "outputs": [],
   "source": [
    "# 1) See the update values in the continuoous vs tabular case (look at gradieents and see if they match). Get the exact state representation for both (manually take an action and see if they match)\n",
    "# 2) Put a negative reward for each time step\n",
    "# 3) Recreate the original tabular OC\n",
    "# 4) check code for errors"
   ]
  },
  {
   "cell_type": "code",
   "execution_count": null,
   "id": "macro-economics",
   "metadata": {},
   "outputs": [],
   "source": [
    "# 1) Negative Rewards\n",
    "# 2) State Representation: Poosition of agent, position of nearest danger, relative distance between them, sine and cosine of angle between them"
   ]
  }
 ],
 "metadata": {
  "kernelspec": {
   "display_name": "Python 3",
   "language": "python",
   "name": "python3"
  },
  "language_info": {
   "codemirror_mode": {
    "name": "ipython",
    "version": 3
   },
   "file_extension": ".py",
   "mimetype": "text/x-python",
   "name": "python",
   "nbconvert_exporter": "python",
   "pygments_lexer": "ipython3",
   "version": "3.7.10"
  }
 },
 "nbformat": 4,
 "nbformat_minor": 5
}
